{
  "nbformat": 4,
  "nbformat_minor": 0,
  "metadata": {
    "colab": {
      "name": "Lazy YouTube API",
      "provenance": [],
      "toc_visible": true,
      "authorship_tag": "ABX9TyPUyMqu5tBVDt7pEUZTY63J",
      "include_colab_link": true
    },
    "kernelspec": {
      "name": "python3",
      "display_name": "Python 3"
    }
  },
  "cells": [
    {
      "cell_type": "markdown",
      "metadata": {
        "id": "view-in-github",
        "colab_type": "text"
      },
      "source": [
        "<a href=\"https://colab.research.google.com/github/rohittp0/Lazy-YouTube-API/blob/master/Lazy_YouTube_API.ipynb\" target=\"_parent\"><img src=\"https://colab.research.google.com/assets/colab-badge.svg\" alt=\"Open In Colab\"/></a>"
      ]
    },
    {
      "cell_type": "code",
      "metadata": {
        "id": "pEgLnXAF0pPZ",
        "colab_type": "code",
        "colab": {}
      },
      "source": [
        "# getting files\n",
        "! rm -r sample_data\n",
        "! git clone https://github.com/rohittp0/Lazy-YouTube-API.git api\n",
        "! cd /content/api/functions && npm install\n",
        "! npm install firebase-tools -g\n",
        "! n stable\n",
        "print(\"Move on\")"
      ],
      "execution_count": 0,
      "outputs": []
    },
    {
      "cell_type": "code",
      "metadata": {
        "id": "uhAxVUHCKKCq",
        "colab_type": "code",
        "colab": {}
      },
      "source": [
        "! firebase login --no-localhost && echo \"login success. Move on\""
      ],
      "execution_count": 0,
      "outputs": []
    },
    {
      "cell_type": "code",
      "metadata": {
        "id": "T7pFBy-ALz2r",
        "colab_type": "code",
        "colab": {
          "base_uri": "https://localhost:8080/",
          "height": 119
        },
        "outputId": "c12c889c-a33d-45fa-af6f-d865f249bc4e"
      },
      "source": [
        "print(\"Visit https://console.firebase.google.com/u/0/\")\n",
        "print(\"To create a new project\")\n",
        "print(\"When you are done enter the project id in the text box below\")\n",
        "! cd /content/api && read d && firebase use $d && echo \"Project selected move on\"   "
      ],
      "execution_count": 45,
      "outputs": [
        {
          "output_type": "stream",
          "text": [
            "Visit https://console.firebase.google.com/u/0/\n",
            "To create a new project\n",
            "When you are done enter the project id in the text box below\n",
            "lapi-7327e\n",
            "Now using project \u001b[1mlapi-7327e\u001b[22m\n",
            "Project selected move on\n"
          ],
          "name": "stdout"
        }
      ]
    },
    {
      "cell_type": "code",
      "metadata": {
        "id": "vapSxSOHgY7-",
        "colab_type": "code",
        "colab": {
          "base_uri": "https://localhost:8080/",
          "height": 119
        },
        "outputId": "d49c7b1c-cb35-4d8f-e678-9d093de32404"
      },
      "source": [
        "print(\"Visit https://console.developers.google.com/apis/library/youtube.googleapis.com\")\n",
        "print(\"And enable the API\")\n",
        "print(\"Then come back and click on the text field below and press enter.\")\n",
        "! read d\n",
        "print(\"Hope you did everything correctly\")\n",
        "print(\"Move on\") "
      ],
      "execution_count": 47,
      "outputs": [
        {
          "output_type": "stream",
          "text": [
            "Visit https://console.developers.google.com/apis/library/youtube.googleapis.com\n",
            "And enable the API\n",
            "Then come back and click on the text field below and press enter.\n",
            "\n",
            "Hope you did everything correctly\n",
            "Move on\n"
          ],
          "name": "stdout"
        }
      ]
    },
    {
      "cell_type": "code",
      "metadata": {
        "id": "3PNDc38dY_W5",
        "colab_type": "code",
        "colab": {}
      },
      "source": [
        "from google.colab import files\n",
        "import os\n",
        "\n",
        "print(\"Visit https://console.cloud.google.com/apis/api/youtube.googleapis.com/credentials\")\n",
        "print(\"To create a new OAuth client id\")\n",
        "print(\"Then download the JSON file and upload it here\")\n",
        "\n",
        "uploaded = files.upload()\n",
        "for fn in uploaded.keys():\n",
        "    os.replace(\"/content/{}\".format(fn), \"/content/api/functions/lib/.credentials/credentials.json\")\n",
        "    \n",
        "print(\"Credentials saved move on\")   "
      ],
      "execution_count": 0,
      "outputs": []
    },
    {
      "cell_type": "code",
      "metadata": {
        "id": "gQgSxmX3np3D",
        "colab_type": "code",
        "colab": {
          "base_uri": "https://localhost:8080/",
          "height": 445
        },
        "outputId": "73cf7b7e-1c2d-4dc7-c60f-1879021cf46a"
      },
      "source": [
        "! cd /content/api/functions/lib/ && node login.js && echo \"Access granted. Move on\""
      ],
      "execution_count": 54,
      "outputs": [
        {
          "output_type": "stream",
          "text": [
            "OAuth2Client {\n",
            "  _events: [Object: null prototype] {},\n",
            "  _eventsCount: \u001b[33m0\u001b[39m,\n",
            "  _maxListeners: \u001b[90mundefined\u001b[39m,\n",
            "  transporter: DefaultTransporter {},\n",
            "  credentials: {\n",
            "    access_token: \u001b[32m'ya29.a0AfH6SMDYQjAi6Oih0mKaOS8sx-718wrFn6L_o0pt1GB30_uVq0Dt86IQZ3ZyRUgiVos8XuR30Gdbu79Yegewxsc03WjRkS8jK37EKs-tcbsLn1R0FpMsCf0VgcbQS3fAvEdemxV9s021_NsSI2jmqaNLUalOUuj1uWg'\u001b[39m,\n",
            "    refresh_token: \u001b[32m'1//09qKZj2hbpUVjCgYIARAAGAkSNwF-L9Ir_hJDnLAtEVCLysoyIW87YDovhWkr4OJ8sY_Pyk_NtYeYwgTJT_6ds7eRQj3yPStokGQ'\u001b[39m,\n",
            "    scope: \u001b[32m'https://www.googleapis.com/auth/youtube'\u001b[39m,\n",
            "    token_type: \u001b[32m'Bearer'\u001b[39m,\n",
            "    expiry_date: \u001b[33m1589286613621\u001b[39m\n",
            "  },\n",
            "  certificateCache: {},\n",
            "  certificateExpiry: \u001b[1mnull\u001b[22m,\n",
            "  certificateCacheFormat: \u001b[32m'PEM'\u001b[39m,\n",
            "  refreshTokenPromises: Map {},\n",
            "  _clientId: \u001b[32m'846433026427-0tb5uh390t5bkjs4e1c9ej6l3jkm5545.apps.googleusercontent.com'\u001b[39m,\n",
            "  _clientSecret: \u001b[32m'sslZfz6KoRGn1dVwBlvhrZ3F'\u001b[39m,\n",
            "  redirectUri: \u001b[32m'urn:ietf:wg:oauth:2.0:oob'\u001b[39m,\n",
            "  eagerRefreshThresholdMillis: \u001b[33m300000\u001b[39m,\n",
            "  forceRefreshOnFailure: \u001b[33mfalse\u001b[39m,\n",
            "  [\u001b[32mSymbol(kCapture)\u001b[39m]: \u001b[33mfalse\u001b[39m\n",
            "}\n",
            "Access granted. Move on\n"
          ],
          "name": "stdout"
        }
      ]
    },
    {
      "cell_type": "code",
      "metadata": {
        "id": "2d8aVdlEwl3U",
        "colab_type": "code",
        "colab": {}
      },
      "source": [
        "video_id = input(\"Enter the video id : \")\n",
        "constants_path = \"/content/api/functions/lib/constants.js\" \n",
        "with open(constants_path, 'r+') as f:\n",
        "    text = f.read()\n",
        "    f.seek(0)\n",
        "    f.write(text.replace(\"<VIDEO_ID>\",video_id))\n",
        "    f.truncate()\n",
        "with open(\"/content/api/functions/src/constants.ts\", 'r+') as f:\n",
        "    text = f.read()\n",
        "    f.seek(0)\n",
        "    f.write(text.replace(\"<VIDEO_ID>\",video_id))\n",
        "    f.truncate()    \n",
        "\n",
        "print(\"Video ID saved. The video id is {} \".format(video_id))\n",
        "print(\"If you want to change it edit {} file and run the next code block again\".format(constants_path))\n",
        "print(\"Move on\")"
      ],
      "execution_count": 0,
      "outputs": []
    },
    {
      "cell_type": "code",
      "metadata": {
        "id": "vVmrlph_p3ek",
        "colab_type": "code",
        "colab": {
          "base_uri": "https://localhost:8080/",
          "height": 323
        },
        "outputId": "980f5ef3-104f-46c6-97fa-659c8bcd0066"
      },
      "source": [
        "! cd /content/api/ && firebase deploy --only functions && echo \"Copy the url of the function from above (It should say Function URL (updateViews): ).\" && echo \"You will need it in the next step\" "
      ],
      "execution_count": 55,
      "outputs": [
        {
          "output_type": "stream",
          "text": [
            "\n",
            "\u001b[1m\u001b[37m===\u001b[39m Deploying to 'lapi-7327e'...\u001b[22m\n",
            "\n",
            "\u001b[1m\u001b[36mi \u001b[39m\u001b[22m deploying \u001b[1mfunctions\u001b[22m\n",
            "\u001b[1m\u001b[36mi  functions:\u001b[39m\u001b[22m ensuring required API \u001b[1mcloudfunctions.googleapis.com\u001b[22m is enabled...\n",
            "\u001b[1m\u001b[32m✔  functions:\u001b[39m\u001b[22m required API \u001b[1mcloudfunctions.googleapis.com\u001b[22m is enabled\n",
            "\u001b[1m\u001b[36mi \u001b[39m\u001b[22m \u001b[1m\u001b[36mfunctions:\u001b[39m\u001b[22m preparing \u001b[1mfunctions\u001b[22m directory for uploading...\n",
            "\u001b[1m\u001b[36mi \u001b[39m\u001b[22m \u001b[1m\u001b[36mfunctions:\u001b[39m\u001b[22m packaged \u001b[1mfunctions\u001b[22m (39.16 KB) for uploading\n",
            "\u001b[1m\u001b[32m✔ \u001b[39m\u001b[22m \u001b[1m\u001b[32mfunctions:\u001b[39m\u001b[22m \u001b[1mfunctions\u001b[22m folder uploaded successfully\n",
            "\u001b[1m\u001b[36mi \u001b[39m\u001b[22m \u001b[1m\u001b[36mfunctions: \u001b[39m\u001b[22mcreating Node.js 8 function \u001b[1mupdateViews(us-central1)\u001b[22m...\n",
            "\u001b[1m\u001b[32m✔ \u001b[39m\u001b[22m \u001b[1m\u001b[32mfunctions[updateViews(us-central1)]: \u001b[39m\u001b[22mSuccessful create operation. \n",
            "\u001b[1mFunction URL\u001b[22m (updateViews): https://us-central1-lapi-7327e.cloudfunctions.net/updateViews\n",
            "\n",
            "\u001b[1m\u001b[32m✔ \u001b[39m\u001b[22m \u001b[1m\u001b[4mDeploy complete!\u001b[24m\u001b[22m\n",
            "\n",
            "\u001b[1mProject Console:\u001b[22m https://console.firebase.google.com/project/lapi-7327e/overview\n",
            "Copy the url of the function from above.\n",
            "You will need it in the next step\n"
          ],
          "name": "stdout"
        }
      ]
    },
    {
      "cell_type": "markdown",
      "metadata": {
        "id": "SRVcgffX1tQH",
        "colab_type": "text"
      },
      "source": [
        "# To Conclude\n",
        "Now the work of the script is complete you can test it by visiting the url you have copied in the last step. The title of your video will update every time you visit the link. But you can't sit there refreshing the page can you ? Don't worry [cron-job.org](https://cron-job.org/en/) is here for the rescue. Just create an account there and create a schedule to call the url every 8 minutes.\n",
        "\n",
        "And just like that you too now have a YouTube video \n",
        "with dynamic title. If you feel like digging in there are lot of options to change take a look at my [github page](https://https://github.com/rohittp0/Lazy-YouTube-API) for the scource code and all avalable options.\n",
        "\n",
        "Hope you enjoyed !..."
      ]
    }
  ]
}