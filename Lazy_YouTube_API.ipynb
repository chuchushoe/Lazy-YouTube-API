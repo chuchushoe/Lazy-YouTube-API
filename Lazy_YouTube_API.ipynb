{
  "nbformat": 4,
  "nbformat_minor": 0,
  "metadata": {
    "colab": {
      "name": "Lazy YouTube API",
      "provenance": [],
      "private_outputs": true,
      "toc_visible": true,
      "authorship_tag": "ABX9TyNfIDDCIfgY95FVHHeU47SZ",
      "include_colab_link": true
    },
    "kernelspec": {
      "name": "python3",
      "display_name": "Python 3"
    }
  },
  "cells": [
    {
      "cell_type": "markdown",
      "metadata": {
        "id": "view-in-github",
        "colab_type": "text"
      },
      "source": [
        "<a href=\"https://colab.research.google.com/github/rohittp0/Lazy-YouTube-API/blob/master/Lazy_YouTube_API.ipynb\" target=\"_parent\"><img src=\"https://colab.research.google.com/assets/colab-badge.svg\" alt=\"Open In Colab\"/></a>"
      ]
    },
    {
      "cell_type": "code",
      "metadata": {
        "id": "pEgLnXAF0pPZ",
        "colab_type": "code",
        "colab": {}
      },
      "source": [
        "# getting files\n",
        "! rm -r *\n",
        "! git clone https://github.com/rohittp0/Lazy-YouTube-API.git api\n",
        "! cd /content/api/functions && npm install\n",
        "! npm i -g npm\n",
        "! npm install firebase-tools -g\n",
        "! npm install n -g && n stable\n",
        "print(\"Move on\")"
      ],
      "execution_count": 0,
      "outputs": []
    },
    {
      "cell_type": "code",
      "metadata": {
        "id": "uhAxVUHCKKCq",
        "colab_type": "code",
        "colab": {}
      },
      "source": [
        "! firebase login --no-localhost && echo \"login success. Move on\""
      ],
      "execution_count": 0,
      "outputs": []
    },
    {
      "cell_type": "code",
      "metadata": {
        "id": "T7pFBy-ALz2r",
        "colab_type": "code",
        "colab": {}
      },
      "source": [
        "print(\"Visit https://console.firebase.google.com/u/0/\")\n",
        "print(\"To create a new project\")\n",
        "print(\"When you are done enter the project id in the text box below\")\n",
        "! cd /content/api && read d && firebase use $d && echo \"Project selected move on\"   "
      ],
      "execution_count": 0,
      "outputs": []
    },
    {
      "cell_type": "code",
      "metadata": {
        "id": "vapSxSOHgY7-",
        "colab_type": "code",
        "colab": {}
      },
      "source": [
        "print(\"Visit https://console.developers.google.com/apis/library/youtube.googleapis.com\")\n",
        "print(\"And enable the API\")\n",
        "print(\"Then come back and click on the text field below and press enter.\")\n",
        "! read d\n",
        "print(\"Hope you did everything correctly\")\n",
        "print(\"Move on\") "
      ],
      "execution_count": 0,
      "outputs": []
    },
    {
      "cell_type": "code",
      "metadata": {
        "id": "3PNDc38dY_W5",
        "colab_type": "code",
        "colab": {}
      },
      "source": [
        "from google.colab import files\n",
        "import os\n",
        "\n",
        "print(\"Visit https://console.cloud.google.com/apis/api/youtube.googleapis.com/credentials\")\n",
        "print(\"To create a new OAuth client id\")\n",
        "print(\"Then download the JSON file and upload it here\")\n",
        "\n",
        "uploaded = files.upload()\n",
        "for fn in uploaded.keys():\n",
        "    os.replace(\"/content/{}\".format(fn), \"/content/api/functions/lib/.credentials/credentials.json\")\n",
        "    \n",
        "print(\"Credentials saved move on\")   "
      ],
      "execution_count": 0,
      "outputs": []
    },
    {
      "cell_type": "code",
      "metadata": {
        "id": "gQgSxmX3np3D",
        "colab_type": "code",
        "colab": {}
      },
      "source": [
        "! cd /content/api/functions/lib/ && node login.js && echo \"Access granted. Move on\""
      ],
      "execution_count": 0,
      "outputs": []
    },
    {
      "cell_type": "code",
      "metadata": {
        "id": "2d8aVdlEwl3U",
        "colab_type": "code",
        "colab": {}
      },
      "source": [
        "video_id = input(\"Enter the video id : \")\n",
        "constants_path = \"/content/api/functions/lib/constants.js\" \n",
        "with open(constants_path, 'r+') as f:\n",
        "    text = f.read()\n",
        "    f.seek(0)\n",
        "    f.write(text.replace(\"<VIDEO_ID>\",video_id))\n",
        "    f.truncate()\n",
        "with open(\"/content/api/functions/src/constants.ts\", 'r+') as f:\n",
        "    text = f.read()\n",
        "    f.seek(0)\n",
        "    f.write(text.replace(\"<VIDEO_ID>\",video_id))\n",
        "    f.truncate()    \n",
        "\n",
        "print(\"Video ID saved. The video id is {} \".format(video_id))\n",
        "print(\"If you want to change it edit {} file and run the next code block again\".format(constants_path))\n",
        "print(\"Move on\")"
      ],
      "execution_count": 0,
      "outputs": []
    },
    {
      "cell_type": "code",
      "metadata": {
        "id": "vVmrlph_p3ek",
        "colab_type": "code",
        "colab": {}
      },
      "source": [
        "! cd /content/api/ && firebase deploy --only functions && echo \"Copy the url of the function from above (It should say Function URL (updateViews): ).\" && echo \"You will need it in the next step\" "
      ],
      "execution_count": 0,
      "outputs": []
    },
    {
      "cell_type": "markdown",
      "metadata": {
        "id": "SRVcgffX1tQH",
        "colab_type": "text"
      },
      "source": [
        "# To Conclude\n",
        "Now the work of the script is complete you can test it by visiting the url you have copied in the last step. The title of your video will update every time you visit the link. But you can't sit there refreshing the page can you ? Don't worry [cron-job.org](https://cron-job.org/en/) is here for the rescue. Just create an account there and create a schedule to call the url every 8 minutes.\n",
        "\n",
        "And just like that you too now have a YouTube video \n",
        "with dynamic title. If you feel like digging in there are lot of options to change take a look at my [github page](https://https://github.com/rohittp0/Lazy-YouTube-API) for the scource code and all avalable options.\n",
        "\n",
        "Hope you enjoyed !..."
      ]
    }
  ]
}